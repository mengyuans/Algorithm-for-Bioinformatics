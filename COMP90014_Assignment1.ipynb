{
 "cells": [
  {
   "cell_type": "markdown",
   "metadata": {},
   "source": [
    "# COMP90014 Assignment 1\n",
    "### Semester 2, 2019"
   ]
  },
  {
   "cell_type": "markdown",
   "metadata": {},
   "source": [
    "This assignment should be completed by each student individually. Make sure you read this entire document, and ask for help if anything is not clear. Any changes or clarification to this document will be announced via the LMS.\n",
    "\n",
    "Please make sure you are aware of the University's rules on academic honesty and plagiarism, which are very strict: https://academichonesty.unimelb.edu.au/ \n",
    "\n",
    "Make sure you **do not** copy any code either from other students or from the internet. This is considered plagiarism. It is generally a good idea to avoid looking at any solutions as you may find it surprisingly difficult to generate your own solution to the problem once you have seen somebody else's.\n",
    "\n",
    "Your completed notebook file containing all your answers will be turned in via LMS. No other files or formats will be accepted - only upload the completed `.ipynb` file."
   ]
  },
  {
   "cell_type": "markdown",
   "metadata": {},
   "source": [
    "### Overview\n",
    "To complete the assignment you will need to finish the tasks in this notebook. There are multiple tasks that are connected in a logical order.\n",
    "\n",
    "The tasks are a combination of writing your own implementations of algorithms we've discussed in lectures, writing your own code to use library implementations of these algorithms and interpreting the results in short answer format. Each short answer question has a word limit that will be strictly enforced!\n",
    "\n",
    "In some case, we have provided test input and test output that you can use to try out your solutions. These tests are just samples and are not exhaustive - they may warn you if you've made a mistake, but they are not guaranteed to. It's up to you to decide whether your code is correct."
   ]
  },
  {
   "cell_type": "markdown",
   "metadata": {},
   "source": [
    "### Marking\n",
    "\n",
    "Cells that must be completed to receive marks are clearly labeled. There are 16 graded cells, some of which are code cells, in which you must complete the code to solve a problem, and some of which are markdown cells, in which you must write your answers to short-answer questions. In addition to the graded cells, up to 8 marks will be given for code style, readability, efficiency and comments. \n",
    "\n",
    "The total marks for the assignment add up to 45, and it will be worth 15% of your overall subject grade."
   ]
  },
  {
   "cell_type": "markdown",
   "metadata": {},
   "source": [
    "### Background and data\n",
    "During this assignment you will go through the steps to generate trees from a set of sequences. This includes calculating the distance matrices and the trees themselves using multiple algorithms. At each step of the process you will be asked to fill out short answer questions to demonstrate your understanding of the concepts.\n",
    "\n",
    "The sequences you will use are the following [C2H2 zinc finger genes](https://en.wikipedia.org/wiki/Zinc_finger#Cys2His2) listed with links to their NCBI RefSeq records:\n",
    "- [*KLF1*](https://www.ncbi.nlm.nih.gov/nuccore/NM_006563)\n",
    "- [*KLF3*](https://www.ncbi.nlm.nih.gov/nuccore/NM_016531)\n",
    "- [*KLF7*](https://www.ncbi.nlm.nih.gov/nuccore/NM_003709)\n",
    "- [*YY1*](https://www.ncbi.nlm.nih.gov/nuccore/NM_003403)\n",
    "- [*SP1*](https://www.ncbi.nlm.nih.gov/nuccore/NM_001251825)\n",
    "- [*SP4*](https://www.ncbi.nlm.nih.gov/nuccore/NM_003112)\n",
    "- [*SP8*](https://www.ncbi.nlm.nih.gov/nuccore/NM_182700)\n"
   ]
  },
  {
   "cell_type": "markdown",
   "metadata": {},
   "source": [
    "### Task 1 - Setup\n",
    "\n",
    "A new directory named `sequences`has been created in the same place as this notebook with a saved  FASTA file for each of the sequences above. The sequence files are named `<accession>.fa` where `<accession>` is the RefSeq accession number (e.g. `NM_006563.fa` for the *KLF1* sequence). Please look in the directory to undertsand the format of the data you will be working with. \n",
    "\n",
    "These files should show up when you `git pull`, you can run the code below to read in the sequences you just downloaded into a handy data structure. \n",
    "\n",
    "First, we create a dictionary `accessions` with gene names as keys and RefSeq accessions as values and populate it with the seven genes above.\n",
    "\n",
    "Next we create a second dictionary `sequences` with gene names as keys and DNA sequence objects from the FASTA files as values. We read the FASTA files using the `scikit-bio` library method `skbio.sequence.DNA.read()`."
   ]
  },
  {
   "cell_type": "code",
   "execution_count": 1,
   "metadata": {},
   "outputs": [
    {
     "ename": "ModuleNotFoundError",
     "evalue": "No module named 'skbio'",
     "output_type": "error",
     "traceback": [
      "\u001b[0;31m---------------------------------------------------------------------------\u001b[0m",
      "\u001b[0;31mModuleNotFoundError\u001b[0m                       Traceback (most recent call last)",
      "\u001b[0;32m<ipython-input-1-7a232f5f79a4>\u001b[0m in \u001b[0;36m<module>\u001b[0;34m\u001b[0m\n\u001b[1;32m      1\u001b[0m \u001b[0;32mimport\u001b[0m \u001b[0mos\u001b[0m\u001b[0;34m.\u001b[0m\u001b[0mpath\u001b[0m\u001b[0;34m\u001b[0m\u001b[0;34m\u001b[0m\u001b[0m\n\u001b[1;32m      2\u001b[0m \u001b[0;32mimport\u001b[0m \u001b[0mrandom\u001b[0m\u001b[0;34m\u001b[0m\u001b[0;34m\u001b[0m\u001b[0m\n\u001b[0;32m----> 3\u001b[0;31m \u001b[0;32mimport\u001b[0m \u001b[0mskbio\u001b[0m\u001b[0;34m\u001b[0m\u001b[0;34m\u001b[0m\u001b[0m\n\u001b[0m\u001b[1;32m      4\u001b[0m \u001b[0;32mfrom\u001b[0m \u001b[0mmath\u001b[0m \u001b[0;32mimport\u001b[0m \u001b[0minf\u001b[0m\u001b[0;34m\u001b[0m\u001b[0;34m\u001b[0m\u001b[0m\n\u001b[1;32m      5\u001b[0m \u001b[0;32mfrom\u001b[0m \u001b[0mio\u001b[0m \u001b[0;32mimport\u001b[0m \u001b[0mStringIO\u001b[0m\u001b[0;34m\u001b[0m\u001b[0;34m\u001b[0m\u001b[0m\n",
      "\u001b[0;31mModuleNotFoundError\u001b[0m: No module named 'skbio'"
     ]
    }
   ],
   "source": [
    "import os.path\n",
    "import random\n",
    "import skbio\n",
    "from math import inf\n",
    "from io import StringIO"
   ]
  },
  {
   "cell_type": "code",
   "execution_count": 2,
   "metadata": {
    "collapsed": true
   },
   "outputs": [],
   "source": [
    "accessions = dict()\n",
    "sequences = dict()\n",
    "\n",
    "accessions['KLF1'] = \"NM_006563\"\n",
    "accessions['KLF3'] = \"NM_016531\"\n",
    "accessions['KLF7'] = \"NM_003709\"\n",
    "accessions['YY1'] = \"NM_003403\"\n",
    "accessions['SP1'] = \"NM_001251825\"\n",
    "accessions['SP4'] = \"NM_003112\"\n",
    "accessions['SP8'] = \"NM_182700\"\n",
    "\n",
    "for key in accessions.keys():\n",
    "    with open(os.path.join(\"sequences\", \"{}.fa\".format(accessions[key]))) as fasta:\n",
    "        sequences[key] = skbio.sequence.DNA.read(fasta)      "
   ]
  },
  {
   "cell_type": "markdown",
   "metadata": {},
   "source": [
    "Run the cell below to see an overview of the information we've just read in. Make sure you understand what is being printed, and ask for help if you don't."
   ]
  },
  {
   "cell_type": "code",
   "execution_count": 3,
   "metadata": {
    "collapsed": true
   },
   "outputs": [
    {
     "name": "stdout",
     "output_type": "stream",
     "text": [
      "KLF1\tNM_006563\t1645\tTCAGAGTTCA\n",
      "KLF3\tNM_016531\t5594\tAGAGCGAGCG\n",
      "KLF7\tNM_003709\t8365\tAACAGCGCTG\n",
      "YY1\tNM_003403\t6534\tCTCCCTCTGC\n",
      "SP1\tNM_001251825\t7536\tACCCCCCCCT\n",
      "SP4\tNM_003112\t6077\tACAGCCCAGC\n",
      "SP8\tNM_182700\t3626\tATTGTATTGC\n"
     ]
    }
   ],
   "source": [
    "for key in accessions.keys():\n",
    "    print(key, accessions[key], len(sequences[key]), str(sequences[key])[:10], sep='\\t')"
   ]
  },
  {
   "cell_type": "markdown",
   "metadata": {},
   "source": [
    "## Part 1 - Distance calculations\n",
    "Distances between sequences can be calculated in a number of different ways. In this part, you will calculate distance matrices for a set of sequences in two different ways. "
   ]
  },
  {
   "cell_type": "markdown",
   "metadata": {},
   "source": [
    "### Task 2 - Creating a distance matrix\n",
    "Write a function `init_distance_matrix` that creates a distance matrix as a dictionary of dictionaries (similar to the substitution matrix in the Week 04 - Trees lab). The dictionary keys should be gene names and the values should be `None` after initialization."
   ]
  },
  {
   "cell_type": "code",
   "execution_count": 39,
   "metadata": {
    "collapsed": true
   },
   "outputs": [],
   "source": [
    "# ~~ GRADED CELL (2 marks) - complete this cell ~~\n",
    "\n",
    "def init_distance_matrix(genes):\n",
    "    \"\"\"\n",
    "    Take in a list of gene names and return a dict.\n",
    "    The dict should be a nested 'dictionary of dictionaries', where the keys of the\n",
    "    both the outer dict and the nested dicts are gene names.\n",
    "    It should be possible to look up a value in the returned dict with a \n",
    "    call like dist[gene1][gene2].\n",
    "    \"\"\"\n",
    "    dist = dict()\n",
    "\n",
    "    ### YOUR CODE HERE - fill in the rest of this function"
   ]
  },
  {
   "cell_type": "markdown",
   "metadata": {},
   "source": [
    "If you have implemented the code correctly, the following tests should give the right results:"
   ]
  },
  {
   "cell_type": "code",
   "execution_count": 40,
   "metadata": {
    "collapsed": true
   },
   "outputs": [
    {
     "name": "stdout",
     "output_type": "stream",
     "text": [
      "dict_keys(['KLF1', 'KLF3', 'KLF7', 'YY1', 'SP1', 'SP4', 'SP8'])\n"
     ]
    }
   ],
   "source": [
    "# Should give: dict_keys(['KLF1', 'KLF3', 'KLF7', 'YY1', 'SP1', 'SP4', 'SP8'])\n",
    "dist = init_distance_matrix(accessions.keys())\n",
    "print(dist.keys())"
   ]
  },
  {
   "cell_type": "code",
   "execution_count": 41,
   "metadata": {
    "collapsed": true
   },
   "outputs": [
    {
     "name": "stdout",
     "output_type": "stream",
     "text": [
      "None\n"
     ]
    }
   ],
   "source": [
    "# Should give: None\n",
    "dist = init_distance_matrix(accessions.keys())\n",
    "print(dist['KLF1']['SP1'])"
   ]
  },
  {
   "cell_type": "code",
   "execution_count": 42,
   "metadata": {
    "collapsed": true
   },
   "outputs": [
    {
     "ename": "TypeError",
     "evalue": "'NoneType' object is not subscriptable",
     "output_type": "error",
     "traceback": [
      "\u001b[0;31m---------------------------------------------------------------------------\u001b[0m",
      "\u001b[0;31mTypeError\u001b[0m                                 Traceback (most recent call last)",
      "\u001b[0;32m<ipython-input-42-266f50077d0b>\u001b[0m in \u001b[0;36m<module>\u001b[0;34m()\u001b[0m\n\u001b[1;32m      1\u001b[0m \u001b[0;31m# Should give an error!\u001b[0m\u001b[0;34m\u001b[0m\u001b[0;34m\u001b[0m\u001b[0m\n\u001b[1;32m      2\u001b[0m \u001b[0mdist\u001b[0m \u001b[0;34m=\u001b[0m \u001b[0minit_distance_matrix\u001b[0m\u001b[0;34m(\u001b[0m\u001b[0maccessions\u001b[0m\u001b[0;34m.\u001b[0m\u001b[0mkeys\u001b[0m\u001b[0;34m(\u001b[0m\u001b[0;34m)\u001b[0m\u001b[0;34m)\u001b[0m\u001b[0;34m\u001b[0m\u001b[0m\n\u001b[0;32m----> 3\u001b[0;31m \u001b[0mprint\u001b[0m\u001b[0;34m(\u001b[0m\u001b[0mdist\u001b[0m\u001b[0;34m[\u001b[0m\u001b[0;34m'YY1'\u001b[0m\u001b[0;34m]\u001b[0m\u001b[0;34m[\u001b[0m\u001b[0;34m'SP4'\u001b[0m\u001b[0;34m]\u001b[0m\u001b[0;34m[\u001b[0m\u001b[0;34m'KLF1'\u001b[0m\u001b[0;34m]\u001b[0m\u001b[0;34m)\u001b[0m\u001b[0;34m\u001b[0m\u001b[0m\n\u001b[0m",
      "\u001b[0;31mTypeError\u001b[0m: 'NoneType' object is not subscriptable"
     ]
    }
   ],
   "source": [
    "# Should give an error!\n",
    "dist = init_distance_matrix(accessions.keys())\n",
    "print(dist['YY1']['SP4']['KLF1'])"
   ]
  },
  {
   "cell_type": "markdown",
   "metadata": {},
   "source": [
    "The following function will pretty-print a distance matrix that has been specified correctly."
   ]
  },
  {
   "cell_type": "code",
   "execution_count": 26,
   "metadata": {
    "collapsed": true
   },
   "outputs": [],
   "source": [
    "def print_distance_matrix(dist):\n",
    "    \"\"\"\n",
    "    Pretty-print a distance matrix.\n",
    "    \"\"\"\n",
    "    genes = sorted(dist.keys())\n",
    "\n",
    "    for s in [''] + genes:\n",
    "        print(\"{: >10}\".format(s), end='')\n",
    "    print()\n",
    "\n",
    "    for key1 in genes:\n",
    "        print(\"{:10}\".format(key1), end='')\n",
    "        for key2 in genes:\n",
    "            value = dist[key1][key2]\n",
    "            if value is None:\n",
    "                print(\"      None\", end='')\n",
    "            else:\n",
    "                print(\"{: >#10.5f}\".format(dist[key1][key2]), end='')\n",
    "        print()"
   ]
  },
  {
   "cell_type": "markdown",
   "metadata": {},
   "source": [
    "### Task 3 - Pairwise alignment scores as distances\n",
    "The `skbio.alignment.local_pairwise_align_ssw()` library function calculates Striped Smith-Waterman alignments using a highly optimized implementation. It returns a tuple containing:\n",
    "- `TabularMSA` object describing the alignment\n",
    "- alignment score\n",
    "- tuple of aligned position ranges\n",
    "\n",
    "Here is some example output from calling `skbio.alignment.local_pairwise_align_ssw()`. Notice that changing the order of the sequences doesn't change the alignment."
   ]
  },
  {
   "cell_type": "code",
   "execution_count": 27,
   "metadata": {},
   "outputs": [
    {
     "data": {
      "text/plain": [
       "(TabularMSA[DNA]\n",
       " ----------------------------------\n",
       " Stats:\n",
       "     sequence count: 2\n",
       "     position count: 34\n",
       " ----------------------------------\n",
       " CTCCCAGATAAAAAAAAAAAAAAAAAAAAAAAAA\n",
       " CTCCCA---AAAAAAAAAAAAAAAAAAAAAAAAA, 53, [(1603, 1636), (4802, 4832)])"
      ]
     },
     "execution_count": 27,
     "metadata": {},
     "output_type": "execute_result"
    }
   ],
   "source": [
    "skbio.alignment.local_pairwise_align_ssw(sequences['KLF1'], sequences['YY1'])"
   ]
  },
  {
   "cell_type": "code",
   "execution_count": 28,
   "metadata": {},
   "outputs": [
    {
     "data": {
      "text/plain": [
       "(TabularMSA[DNA]\n",
       " ----------------------------------\n",
       " Stats:\n",
       "     sequence count: 2\n",
       "     position count: 34\n",
       " ----------------------------------\n",
       " CTCCCA---AAAAAAAAAAAAAAAAAAAAAAAAA\n",
       " CTCCCAGATAAAAAAAAAAAAAAAAAAAAAAAAA, 53, [(4802, 4832), (1603, 1636)])"
      ]
     },
     "execution_count": 28,
     "metadata": {},
     "output_type": "execute_result"
    }
   ],
   "source": [
    "skbio.alignment.local_pairwise_align_ssw(sequences['YY1'], sequences['KLF1'])"
   ]
  },
  {
   "cell_type": "code",
   "execution_count": 29,
   "metadata": {},
   "outputs": [
    {
     "data": {
      "text/plain": [
       "53"
      ]
     },
     "execution_count": 29,
     "metadata": {},
     "output_type": "execute_result"
    }
   ],
   "source": [
    "# Get just the score, by indexing into the tuple\n",
    "result_tuple = skbio.alignment.local_pairwise_align_ssw(sequences['KLF1'], sequences['YY1'])\n",
    "result_tuple[1]"
   ]
  },
  {
   "cell_type": "code",
   "execution_count": 30,
   "metadata": {},
   "outputs": [
    {
     "data": {
      "text/plain": [
       "[(1603, 1636), (4802, 4832)]"
      ]
     },
     "execution_count": 30,
     "metadata": {},
     "output_type": "execute_result"
    }
   ],
   "source": [
    "# Get just the tuples showing aligned ranges\n",
    "skbio.alignment.local_pairwise_align_ssw(sequences['KLF1'], sequences['YY1'])[2]"
   ]
  },
  {
   "cell_type": "markdown",
   "metadata": {},
   "source": [
    "Complete the function `create_pairwise_dist_matrix` below. This function should create a  distance matrix using your function `init_distance_matrix`, then use `skbio.alignment.local_pairwise_align_ssw()` to populate it with alignment scores. `skbio.alignment.local_pairwise_align_ssw()` returns a tuple, and the second item in the tuple is the alignment score. Use `1 / score` as the value in the distance matrix.\n",
    "\n",
    "Recall that this matrix will be symmetrical so your solution should only calculate each alignment once."
   ]
  },
  {
   "cell_type": "code",
   "execution_count": 79,
   "metadata": {
    "collapsed": true
   },
   "outputs": [],
   "source": [
    "# ~~ GRADED CELL (2 marks) - complete this cell ~~\n",
    "\n",
    "def create_pairwise_dist_matrix(seqs):\n",
    "    \"\"\"\n",
    "    Take in a dict with sequence names as keys and sequences as values.\n",
    "    Return a dict representing the pairwise distances between all pairs of sequences.\n",
    "    \"\"\"\n",
    "    ### YOUR CODE HERE - fill in this function"
   ]
  },
  {
   "cell_type": "markdown",
   "metadata": {},
   "source": [
    "When you have implemented `create_pairwise_dist_matrix` correctly, the following should creat and print the filled-out distance matrix:"
   ]
  },
  {
   "cell_type": "code",
   "execution_count": 80,
   "metadata": {
    "collapsed": true
   },
   "outputs": [
    {
     "name": "stdout",
     "output_type": "stream",
     "text": [
      "dict_keys(['KLF1', 'KLF3', 'KLF7', 'YY1', 'SP1', 'SP4', 'SP8'])\n",
      "                KLF1      KLF3      KLF7       SP1       SP4       SP8       YY1\n",
      "KLF1         0.00000   0.01220   0.00833   0.02174   0.02500   0.00962   0.01887\n",
      "KLF3         0.01220   0.00000   0.00855   0.03125   0.02439   0.02941   0.03448\n",
      "KLF7         0.00833   0.00855   0.00000   0.02222   0.02632   0.02857   0.02326\n",
      "SP1          0.02174   0.03125   0.02222   0.00000   0.00446   0.00606   0.02564\n",
      "SP4          0.02500   0.02439   0.02632   0.00446   0.00000   0.01562   0.02326\n",
      "SP8          0.00962   0.02941   0.02857   0.00606   0.01562   0.00000   0.01852\n",
      "YY1          0.01887   0.03448   0.02326   0.02564   0.02326   0.01852   0.00000\n"
     ]
    }
   ],
   "source": [
    "dist_pairwise = create_pairwise_dist_matrix(sequences)\n",
    "print_distance_matrix(dist_pairwise)"
   ]
  },
  {
   "cell_type": "markdown",
   "metadata": {},
   "source": [
    "Test that your function produces the correct results on the toy sequences below. The below code should print\n",
    "\n",
    "                    GeneA     GeneB     GeneC\n",
    "    GeneA        0.00000   0.10000   0.25000\n",
    "    GeneB        0.10000   0.00000   0.25000\n",
    "    GeneC        0.25000   0.25000   0.00000\n"
   ]
  },
  {
   "cell_type": "code",
   "execution_count": 81,
   "metadata": {
    "collapsed": true
   },
   "outputs": [
    {
     "name": "stdout",
     "output_type": "stream",
     "text": [
      "dict_keys(['GeneA', 'GeneB', 'GeneC'])\n",
      "               GeneA     GeneB     GeneC\n",
      "GeneA        0.00000   0.10000   0.25000\n",
      "GeneB        0.10000   0.00000   0.25000\n",
      "GeneC        0.25000   0.25000   0.00000\n"
     ]
    }
   ],
   "source": [
    "test_sequences = {'GeneA': skbio.DNA('GATTACA'), 'GeneB': skbio.DNA('GTTACAT'), 'GeneC':skbio.DNA('AGCTATG')}\n",
    "test_dist_pairwise = create_pairwise_dist_matrix(test_sequences)\n",
    "print_distance_matrix(test_dist_pairwise)"
   ]
  },
  {
   "cell_type": "markdown",
   "metadata": {},
   "source": [
    "#### Task 3 - Question 1\n",
    "Why do we use `1 / score` instead of `score` for the distance? (max 50 words).\n",
    "\n",
    "Write your answer in the markdown cell below.\n"
   ]
  },
  {
   "cell_type": "markdown",
   "metadata": {},
   "source": [
    "~~ GRADED CELL (3 marks) - complete this cell ~~\n",
    "\n",
    "*Your answer here*"
   ]
  },
  {
   "cell_type": "markdown",
   "metadata": {},
   "source": [
    "### Task 4 - Multiple alignment distances\n",
    "The following code will load the precomputed protein multiple sequence alignment of our genes (generated using Clustal $\\Omega$) and read it into a `TabularNSA` object. Download the `znfs.clustal_num` file from the LMS and put it in the same directory as the notebook."
   ]
  },
  {
   "cell_type": "code",
   "execution_count": 82,
   "metadata": {},
   "outputs": [
    {
     "data": {
      "text/plain": [
       "TabularMSA[Protein]\n",
       "-----------------------------------------------------------------------\n",
       "Stats:\n",
       "    sequence count: 7\n",
       "    position count: 998\n",
       "-----------------------------------------------------------------------\n",
       "--------------------------------- ... ---------------------------------\n",
       "--------------------------------- ... ---------------------------------\n",
       "...\n",
       "MSDQDHSMDEMTAVVKI---------------- ... AICPEGIARLANSGINVMQVADLQSINISGNGF\n",
       "MSDQKKEEEEEAAAAAAMATEGGKTSEPENNNK ... AISQDSNPATPNVSTNMEE-------------F"
      ]
     },
     "execution_count": 82,
     "metadata": {},
     "output_type": "execute_result"
    }
   ],
   "source": [
    "with open(\"znfs.clustal_num\") as znfs:\n",
    "    znf_msa = skbio.TabularMSA.read(znfs, constructor=skbio.Protein)\n",
    "znf_msa"
   ]
  },
  {
   "cell_type": "markdown",
   "metadata": {},
   "source": [
    "Now, you will write some code to calculate pairwise identity from the multiple alignment. The `TabularMSA` is indexed by gene name. We can extract a subset with a pair of genes by indexing with a list of two gene names, using the following syntax, which will be familiar to students that have used `pandas` for data science in Python:"
   ]
  },
  {
   "cell_type": "code",
   "execution_count": 83,
   "metadata": {},
   "outputs": [
    {
     "data": {
      "text/plain": [
       "TabularMSA[Protein]\n",
       "-----------------------------------------------------------------------\n",
       "Stats:\n",
       "    sequence count: 2\n",
       "    position count: 998\n",
       "-----------------------------------------------------------------------\n",
       "--------------------------------- ... ---------------------------------\n",
       "--------------------------------- ... ---------------------------------"
      ]
     },
     "execution_count": 83,
     "metadata": {},
     "output_type": "execute_result"
    }
   ],
   "source": [
    "znf_msa.loc[['KLF1', 'YY1']]"
   ]
  },
  {
   "cell_type": "markdown",
   "metadata": {},
   "source": [
    "The following example code iterates over all positions using the `.iter_positons()` method. This returns a `Sequence` object for each column. It skips positions where either sequence contains a gap and counts matches and mismatches. The number of matches and mismatches can be used to calculate the percent identity between two aligned sequences (# matches/ # matches + # mismatches)."
   ]
  },
  {
   "cell_type": "code",
   "execution_count": 84,
   "metadata": {},
   "outputs": [
    {
     "name": "stdout",
     "output_type": "stream",
     "text": [
      "Matches: 66\n",
      "Mismatches: 184\n"
     ]
    }
   ],
   "source": [
    "match = 0\n",
    "mismatch = 0\n",
    "for p1, p2 in znf_msa.loc[['KLF1', 'YY1']].iter_positions():\n",
    "    if str(p1) == '-' or str(p2) == '-':\n",
    "        continue\n",
    "    elif str(p1) == str(p2):\n",
    "        match += 1\n",
    "    else:\n",
    "        mismatch += 1\n",
    "print(\"Matches: {}\\nMismatches: {}\".format(match, mismatch))"
   ]
  },
  {
   "cell_type": "markdown",
   "metadata": {},
   "source": [
    "Complete the function `create_msa_dist_matrix` below. This function should start by creating a new distance matrix using your `init_distance_matrix` function from **Task 1**, then fill each cell of the distance matrix with the fraction of non-gap-containing columns with mismatches (or one minus the percent identity) for each pair of sequences in the multiple alignment. As a guide, try generalising the code above."
   ]
  },
  {
   "cell_type": "code",
   "execution_count": 95,
   "metadata": {
    "collapsed": true
   },
   "outputs": [],
   "source": [
    "# ~~ GRADED CELL (2 marks) - complete this cell ~~\n",
    "\n",
    "def create_msa_dist_matrix(seqs, msa):\n",
    "    \"\"\"\n",
    "    Take in a dict sequences where keys are sequence names and values are sequences, \n",
    "    and a multiple sequence alignment object znf_msa.\n",
    "    Return a dict representing a distance matrix, where the values in the distance\n",
    "    matrix represent the percent identity between the sequences - i.e. the fraction\n",
    "    of mismatches out of all matches and mismatches.\n",
    "    \"\"\"\n",
    "    ### YOUR CODE HERE - fill in this function\n"
   ]
  },
  {
   "cell_type": "markdown",
   "metadata": {},
   "source": [
    "When you have implemented `create_msa_dist_matrix` correctly, the following will create and print the filled-out percent-identity matrix:"
   ]
  },
  {
   "cell_type": "code",
   "execution_count": 90,
   "metadata": {
    "collapsed": true
   },
   "outputs": [
    {
     "name": "stdout",
     "output_type": "stream",
     "text": [
      "                KLF1      KLF3      KLF7       SP1       SP4       SP8       YY1\n",
      "KLF1         0.00000   0.64706   0.64632   0.67232   0.67600   0.67160   0.67410\n",
      "KLF3         0.66775   0.00000   0.66024   0.67364   0.68040   0.68063   0.66862\n",
      "KLF7         0.67784   0.67269   0.00000   0.67847   0.67876   0.67730   0.67913\n",
      "SP1          0.69877   0.69964   0.69859   0.00000   0.69113   0.68936   0.70207\n",
      "SP4          0.68941   0.69116   0.69098   0.68556   0.00000   0.68401   0.69353\n",
      "SP8          0.68320   0.68321   0.68255   0.68374   0.68248   0.00000   0.68474\n",
      "YY1          0.68038   0.68332   0.68763   0.69274   0.69673   0.70010   0.00000\n"
     ]
    }
   ],
   "source": [
    "dist_msa = create_msa_dist_matrix(sequences, znf_msa)\n",
    "print_distance_matrix(dist_msa)"
   ]
  },
  {
   "cell_type": "markdown",
   "metadata": {},
   "source": [
    "Test that your function produces the correct results on the toy sequences below. The below code should print\n",
    "\n",
    "                   GeneA     GeneB     GeneC\n",
    "    GeneA        0.00000   0.16667   0.71429\n",
    "    GeneB        0.16667   0.00000   0.50000\n",
    "    GeneC        0.71429   0.50000   0.00000"
   ]
  },
  {
   "cell_type": "code",
   "execution_count": 96,
   "metadata": {
    "collapsed": true
   },
   "outputs": [
    {
     "name": "stdout",
     "output_type": "stream",
     "text": [
      "               GeneA     GeneB     GeneC\n",
      "GeneA        0.00000   0.83333   0.53846\n",
      "GeneB        0.63158   0.00000   0.60000\n",
      "GeneC        0.53125   0.52632   0.00000\n"
     ]
    }
   ],
   "source": [
    "test_sequences = {'GeneA': skbio.DNA('GATTACA'), 'GeneB': skbio.DNA('GTTACAT'), 'GeneC':skbio.DNA('AGCTATG')}\n",
    "test_multiple_alignment_output = \"\"\"CLUSTAL O(1.2.4) multiple sequence alignment\n",
    "\n",
    "\n",
    "GeneA      GATTACA-\t7\n",
    "GeneB      -GTTACAT\t7\n",
    "GeneC      AGCTATG-\t7\"\"\"\n",
    "test_msa = skbio.TabularMSA.read(StringIO(test_multiple_alignment_output), constructor=skbio.DNA)\n",
    "test_msa_dist = create_msa_dist_matrix(test_sequences, test_msa)\n",
    "print_distance_matrix(test_msa_dist)"
   ]
  },
  {
   "cell_type": "markdown",
   "metadata": {},
   "source": [
    "#### Task 4 - Question 1\n",
    "Do you expect the distance matrices for MSA and SSW to be similar? Why or why not? (max 50 words)\n",
    "\n",
    "Write your answer in the markdown cell below."
   ]
  },
  {
   "cell_type": "markdown",
   "metadata": {},
   "source": [
    "~~ GRADED CELL (3 marks) - complete this cell ~~\n",
    "\n",
    "*Your answer here*"
   ]
  },
  {
   "cell_type": "markdown",
   "metadata": {},
   "source": [
    "### Task 5 - k-mer distances\n",
    "The k-mer distance between two sequences is the fraction of k-mers that are unique to either sequence. Write a function that calculates a dictionary of k-mers (for `k` = any number) and their counts for each gene sequence. We will not use the counts to calculate the distance but they are useful for other applications.\n",
    "\n",
    "Be sure to test your function with a short example sequence you can work by hand."
   ]
  },
  {
   "cell_type": "code",
   "execution_count": null,
   "metadata": {
    "collapsed": true
   },
   "outputs": [],
   "source": [
    "# ~~ GRADED CELL (2 marks) - complete this cell ~~\n",
    "\n",
    "def count_kmers(seq, k):\n",
    "    \"\"\"\n",
    "    Take in a dict of sequences, with sequence names as keys and sequences as values, \n",
    "    and a value k.\n",
    "    Return all kmers of length k in the form of a dict\n",
    "    with k-mer strings as keys and counts as values.\n",
    "    \"\"\"\n",
    "    ### YOUR CODE HERE - fill in this function\n"
   ]
  },
  {
   "cell_type": "markdown",
   "metadata": {},
   "source": [
    "When you have implemented `count_kmers` correctly, the following tests should give the right results:"
   ]
  },
  {
   "cell_type": "code",
   "execution_count": null,
   "metadata": {
    "collapsed": true
   },
   "outputs": [],
   "source": [
    "# Should give: {'GTA': 2, 'TAA': 1, 'AAG': 1, 'AGT': 1}\n",
    "count_kmers('GTAAGTA', 3)"
   ]
  },
  {
   "cell_type": "code",
   "execution_count": null,
   "metadata": {
    "collapsed": true
   },
   "outputs": [],
   "source": [
    "# Should give: {'GTA': 2, 'TAG': 1, 'AGT': 1, 'TAA': 1}\n",
    "count_kmers('GTAGTAA', 3)"
   ]
  },
  {
   "cell_type": "code",
   "execution_count": null,
   "metadata": {
    "collapsed": true
   },
   "outputs": [],
   "source": [
    "# Should give: {'GT': 2, 'TA': 2, 'AG': 1, 'AA': 1}\n",
    "count_kmers('GTAGTAA', 2)"
   ]
  },
  {
   "cell_type": "markdown",
   "metadata": {},
   "source": [
    "Write a function `count_kmers_for_sequences` that uses your previous function to count k-mers for all sequences in a dictionary like `sequences`. It should return a new dictionary with gene names as keys and k-mer dictionaries as values."
   ]
  },
  {
   "cell_type": "code",
   "execution_count": null,
   "metadata": {
    "collapsed": true
   },
   "outputs": [],
   "source": [
    "# ~~ GRADED CELL (2 marks) - complete this cell ~~\n",
    "\n",
    "def count_kmers_for_sequences(seqs, k):\n",
    "    \"\"\"\n",
    "    Given a dict of sequences, build a dict of the kmer counts for each\n",
    "    sequence. Keys should be sequence names, and values should be kmer count\n",
    "    dicts (where keys are kmers and values are counts).\n",
    "    \"\"\"\n",
    "    ### YOUR CODE HERE - fill in this function\n"
   ]
  },
  {
   "cell_type": "markdown",
   "metadata": {},
   "source": [
    "The below code creates the kmer_counts dict, storing all kmer counts for each sequence. \n",
    "\n",
    "It then prints the name of each gene, the number of unique k-mers in each gene and the gene length, one gene per line separated by a tab. If your implementation of `count_kmers_for_sequences` is correct, it should produce the output\n",
    "\n",
    "    KLF1\t1111\t1645\n",
    "    KLF3\t2644\t5632\n",
    "    KLF7\t3057\t8433\n",
    "    YY1\t1879\t3159\n",
    "    SP1\t2751\t7523\n",
    "    SP4\t2550\t6130\n",
    "    SP8\t2018\t3643"
   ]
  },
  {
   "cell_type": "code",
   "execution_count": null,
   "metadata": {
    "collapsed": true
   },
   "outputs": [],
   "source": [
    "kmer_counts = count_kmers_for_sequences(sequences, k=6)\n",
    "\n",
    "for key in kmer_counts.keys():\n",
    "    print(key, len(kmer_counts[key]), len(sequences[key]), sep='\\t')"
   ]
  },
  {
   "cell_type": "markdown",
   "metadata": {},
   "source": [
    "#### Task 5 - Question 1\n",
    "How well correlated are the unique k-mer counts and the gene lengths? What does this suggest about the sequences? (max 50 words)\n",
    "\n",
    "Write your answer in the markdown cell below."
   ]
  },
  {
   "cell_type": "markdown",
   "metadata": {},
   "source": [
    "~~ GRADED CELL (3 marks) - complete this cell ~~\n",
    "\n",
    "*Your answer here*"
   ]
  },
  {
   "cell_type": "markdown",
   "metadata": {},
   "source": [
    "Now write a function to calculate the k-mer distance between a pair of genes given their k-mer count dictionaries. Recall that the k-mer distance is the fraction of k-mers that are unique to one of the sequences. You may find the Python `set` structure useful."
   ]
  },
  {
   "cell_type": "code",
   "execution_count": null,
   "metadata": {
    "collapsed": true
   },
   "outputs": [],
   "source": [
    "# ~~ GRADED CELL (2 marks) - complete this cell ~~\n",
    "\n",
    "def kmer_distance(k1, k2):\n",
    "    \"\"\"\n",
    "    Given two k-mer count dictionaries, calculate the k-mer distance between these two sets of kmers.\n",
    "    The counts themselves are not used. Return a floating-point number for the distance.\n",
    "    \"\"\"\n",
    "    ### YOUR CODE HERE - fill in this function\n"
   ]
  },
  {
   "cell_type": "markdown",
   "metadata": {},
   "source": [
    "When you have implemented the `kmer_distance` function correctly, this test should give the right result:"
   ]
  },
  {
   "cell_type": "code",
   "execution_count": null,
   "metadata": {},
   "outputs": [],
   "source": [
    "# Should give: 0.4\n",
    "test_counts_1 = {'GTA': 2, 'TAA': 1, 'AAG': 1, 'AGT': 1} \n",
    "test_counts_2 = {'GTA': 2, 'TAG': 1, 'AGT': 1, 'TAA': 1} \n",
    "kmer_distance(test_counts_1, test_counts_2)"
   ]
  },
  {
   "cell_type": "markdown",
   "metadata": {},
   "source": [
    "Complete the function `create_kmer_dist_matrix` below. This function should create a new distance matrix containining k-mer distances. The matrix, as before, should be returned as a dict of dicts. Use your `kmer_distance` function and your `init_distance_matrix` function."
   ]
  },
  {
   "cell_type": "code",
   "execution_count": null,
   "metadata": {
    "collapsed": true
   },
   "outputs": [],
   "source": [
    "# ~~ GRADED CELL (2 marks) - complete this cell ~~\n",
    "\n",
    "def create_kmer_dist_matrix(counts):\n",
    "    \"\"\"\n",
    "    Take in a kmer counts dict, where keys are gene names and values are\n",
    "    dicts of kmer counts (i.e. kmers as keys and counts as values). \n",
    "    Return a kmer distance matrix in the form of a dict of dicts of distances.\n",
    "    \"\"\"\n",
    "    ### YOUR CODE HERE - fill in this function\n"
   ]
  },
  {
   "cell_type": "code",
   "execution_count": null,
   "metadata": {
    "collapsed": true
   },
   "outputs": [],
   "source": [
    "dist_kmer = create_kmer_dist_matrix(kmer_counts)\n",
    "print_distance_matrix(dist_kmer)"
   ]
  },
  {
   "cell_type": "markdown",
   "metadata": {},
   "source": [
    "If you've implemented `create_kmer_dist_matrix` correctly, the following test case should display\n",
    "\n",
    "                   GeneA     GeneB\n",
    "    GeneA        0.00000   0.40000\n",
    "    GeneB        0.40000   0.00000"
   ]
  },
  {
   "cell_type": "code",
   "execution_count": null,
   "metadata": {
    "collapsed": true
   },
   "outputs": [],
   "source": [
    "test_counts = {'GeneA': {'GTA': 2, 'TAA': 1, 'AAG': 1, 'AGT': 1},\n",
    "               'GeneB': {'GTA': 2, 'TAG': 1, 'AGT': 1, 'TAA': 1}} \n",
    "test_kmer_dist_matrix = create_kmer_dist_matrix(test_counts)\n",
    "print_distance_matrix(test_kmer_dist_matrix)"
   ]
  },
  {
   "cell_type": "markdown",
   "metadata": {},
   "source": [
    "Check your implementation by completing the `create_kmer_dist_matrix_skbio` function below. It is very similar to the function above, but in this case you build a distance matrix by calculating k-mer distance using `skbio.sequence.distance.kmer_distance()`. The library function takes as input two sequences (from your `sequences` dictionary) and a value for `k`."
   ]
  },
  {
   "cell_type": "code",
   "execution_count": null,
   "metadata": {
    "collapsed": true
   },
   "outputs": [],
   "source": [
    "# ~~ GRADED CELL (2 marks) - complete this cell ~~\n",
    "\n",
    "def create_kmer_dist_matrix_skbio(seqs):\n",
    "    \"\"\"\n",
    "    Take in a kmer counts dict, where keys are gene names and values are\n",
    "    dicts of kmer counts (i.e. kmers as keys and counts as values). \n",
    "    Return a kmer distance matrix in the form of a dict of dicts of distances.\n",
    "    \n",
    "    Use skbio.sequence.distance.kmer_distance() to calculate distances for each cell.\n",
    "    \"\"\"\n",
    "    ### YOUR CODE HERE - fill in this function\n"
   ]
  },
  {
   "cell_type": "code",
   "execution_count": null,
   "metadata": {
    "collapsed": true
   },
   "outputs": [],
   "source": [
    "dist_kmer_lib = create_kmer_dist_matrix_skbio(sequences)\n",
    "print_distance_matrix(dist_kmer_lib)"
   ]
  },
  {
   "cell_type": "markdown",
   "metadata": {},
   "source": [
    "### Task 6 - Building trees with UPGMA\n",
    "In this section you will implement the UPGMA algorithm to create ultrameric trees as described in lectures. You will output the trees in Newick format and import those Newick strings into an `skbio` library function to draw the trees as ASCII art.\n",
    "\n",
    "To implement UPGMA, you should split the process into computable steps, write a function for each step and then use the functions to build your tree."
   ]
  },
  {
   "cell_type": "markdown",
   "metadata": {},
   "source": [
    "The first step of the UPGMA algorithm is finding the minimum distance in the matrix. Write a function `minimum_distance` that takes a distance matrix and returns a tuple with the distance and the two node names corresponding to the minimum distance."
   ]
  },
  {
   "cell_type": "code",
   "execution_count": null,
   "metadata": {
    "collapsed": true
   },
   "outputs": [],
   "source": [
    "# ~~ GRADED CELL (2 marks) - complete this cell ~~\n",
    "\n",
    "def minimum_distance(dist):\n",
    "    \"\"\"\n",
    "    Find and return a tuple containing the minimum distance\n",
    "    in the distance matrix and the nodes names corresponding \n",
    "    to the minimum.\n",
    "    \"\"\"\n",
    "    ### YOUR CODE HERE - fill in this function\n"
   ]
  },
  {
   "cell_type": "markdown",
   "metadata": {},
   "source": [
    "When you have implemented `minimum_distance` correctly, the following tests should give the right result:"
   ]
  },
  {
   "cell_type": "code",
   "execution_count": null,
   "metadata": {
    "collapsed": true
   },
   "outputs": [],
   "source": [
    "# Should give: (3.3, 'geneB', 'geneC')\n",
    "test_dist = {'geneA': {'geneA':0, 'geneB':5, 'geneC':12},\n",
    "             'geneB': {'geneA':5, 'geneB':0, 'geneC':3.3},\n",
    "             'geneC': {'geneA':12, 'geneB':3.3, 'geneC':0}}\n",
    "print(minimum_distance(test_dist))"
   ]
  },
  {
   "cell_type": "code",
   "execution_count": null,
   "metadata": {
    "collapsed": true
   },
   "outputs": [],
   "source": [
    "# Should give: (4.1, 'geneA', 'geneB')\n",
    "test_dist = {'geneA': {'geneA':0, 'geneB':4.1, 'geneC':5},\n",
    "             'geneB': {'geneA':4.1, 'geneB':0, 'geneC':7.2},\n",
    "             'geneC': {'geneA':5, 'geneB':7.2, 'geneC':0}}\n",
    "print(minimum_distance(test_dist))"
   ]
  },
  {
   "cell_type": "markdown",
   "metadata": {},
   "source": [
    "Write another function `update_distances` that takes a distance matrix, the names of the nodes being combined, the name of the newly created node and a dictionary of node sizes and returns a new distance matrix with the result of merging and creating the new node."
   ]
  },
  {
   "cell_type": "code",
   "execution_count": null,
   "metadata": {
    "collapsed": true
   },
   "outputs": [],
   "source": [
    "# ~~ GRADED CELL (2 marks) - complete this cell ~~\n",
    "\n",
    "def update_distances(dist, a, b, new_node, node_sizes):\n",
    "    \"\"\"\n",
    "    Take in:\n",
    "      dist : a distance matrix, structured as a dict of dicts of distances,\n",
    "             with node names as keys\n",
    "      a, b : names of nodes to merge\n",
    "      new_node : the name of the new node to create \n",
    "      node_sizes : a dict giving the weightings (cluster sizes) of existing nodes,\n",
    "                   with names as keys and sizes as values\n",
    "    Return the new distance matrix, which will contain a node new_node\n",
    "    and will not contain a or b.\n",
    "    \"\"\"\n",
    "    ### YOUR CODE HERE - fill in this function\n"
   ]
  },
  {
   "cell_type": "markdown",
   "metadata": {},
   "source": [
    "Here are some test cases you can use in testing `update_distances`:\n",
    "\n",
    "The below cell should print \n",
    "\n",
    "                   geneC    nodeAB\n",
    "    geneC        0.00000   6.10000\n",
    "    nodeAB       6.10000   0.00000"
   ]
  },
  {
   "cell_type": "code",
   "execution_count": null,
   "metadata": {
    "collapsed": true
   },
   "outputs": [],
   "source": [
    "# Should return {'geneC': {'geneC': 0, 'nodeAB': 6.1}, 'nodeAB': {'geneC': 6.1, 'nodeAB': 0.0}}, \n",
    "# and also print the test output as shown above\n",
    "test_dist = {'geneA': {'geneA':0, 'geneB':4.1, 'geneC':5},\n",
    "             'geneB': {'geneA':4.1, 'geneB':0, 'geneC':7.2},\n",
    "             'geneC': {'geneA':5, 'geneB':7.2, 'geneC':0}}\n",
    "test_sizes = {'geneA': 1, 'geneB': 1, 'geneC': 1}\n",
    "test_output = update_distances(test_dist, 'geneA', 'geneB', 'nodeAB', test_sizes)\n",
    "print(test_output)\n",
    "print_distance_matrix(test_output)"
   ]
  },
  {
   "cell_type": "markdown",
   "metadata": {},
   "source": [
    "The below cell should print \n",
    "\n",
    "                   geneC    nodeAB\n",
    "    geneC        0.00000   5.55000\n",
    "    nodeAB       5.55000   0.00000"
   ]
  },
  {
   "cell_type": "code",
   "execution_count": null,
   "metadata": {
    "collapsed": true
   },
   "outputs": [],
   "source": [
    "# Should return {'geneC': {'geneC': 0, 'nodeAB': 5.55}, 'nodeAB': {'geneC': 5.55, 'nodeAB': 0.0}}, \n",
    "# and also print the test output as shown above\n",
    "test_dist = {'nodeA': {'nodeA':0, 'geneB':4.1, 'geneC':5},\n",
    "             'geneB': {'nodeA':4.1, 'geneB':0, 'geneC':7.2},\n",
    "             'geneC': {'nodeA':5, 'geneB':7.2, 'geneC':0}}\n",
    "test_sizes = {'nodeA': 3, 'geneB': 1, 'geneC': 1}\n",
    "test_output = update_distances(test_dist, 'nodeA', 'geneB', 'nodeAB', test_sizes)\n",
    "print(test_output)\n",
    "print_distance_matrix(test_output)"
   ]
  },
  {
   "cell_type": "markdown",
   "metadata": {},
   "source": [
    "Write a final function `upgma` that takes a distance matrix as input and returns a tree as a Newick formatted string.\n",
    "\n",
    "Because we want to output our tree in Newick format, you will need an additional dictionary of Newick strings for each node that gets created. You also need to keep track of the branch lengths. Recall that the $D_{ij}$ in the algorithm from lecture is the length to the tip not the internal branch length, but the Newick string expects the internal branch lengths."
   ]
  },
  {
   "cell_type": "code",
   "execution_count": null,
   "metadata": {
    "collapsed": true
   },
   "outputs": [],
   "source": [
    "# ~~ GRADED CELL (2 marks) - complete this cell ~~\n",
    "\n",
    "def upgma(dist):\n",
    "    \"\"\"\n",
    "    Build a UPGMA tree based on the given distance matrix\n",
    "    and return the tree as a string in Newick format.\n",
    "    \"\"\"\n",
    "    ### YOUR CODE HERE - fill in this function\n"
   ]
  },
  {
   "cell_type": "markdown",
   "metadata": {},
   "source": [
    "Here is a test case you can use to help you test your `upgma` solution:"
   ]
  },
  {
   "cell_type": "code",
   "execution_count": null,
   "metadata": {
    "collapsed": true
   },
   "outputs": [],
   "source": [
    "# Should give: '(geneC:3.05,(geneA:2.05,geneB:2.05):1.0);'\n",
    "test_dist = {'geneA': {'geneA':0, 'geneB':4.1, 'geneC':5},\n",
    "             'geneB': {'geneA':4.1, 'geneB':0, 'geneC':7.2},\n",
    "             'geneC': {'geneA':5, 'geneB':7.2, 'geneC':0}}\n",
    "upgma(test_dist)"
   ]
  },
  {
   "cell_type": "markdown",
   "metadata": {},
   "source": [
    "Let's try UPGMA out using different distance measures. The following three blocks generate trees using your `upgma` function and print those trees to the console. There is one block per distance method."
   ]
  },
  {
   "cell_type": "code",
   "execution_count": null,
   "metadata": {
    "collapsed": true
   },
   "outputs": [],
   "source": [
    "newick = upgma(dist_pairwise)\n",
    "t = skbio.io.read(StringIO(newick), format=\"newick\", into=skbio.tree.TreeNode)\n",
    "print(\"Local alignment score distance, UPGMA\")\n",
    "print()\n",
    "print(newick)\n",
    "print()\n",
    "print(t.ascii_art())"
   ]
  },
  {
   "cell_type": "code",
   "execution_count": null,
   "metadata": {
    "collapsed": true
   },
   "outputs": [],
   "source": [
    "newick = upgma(dist_msa)\n",
    "t = skbio.io.read(StringIO(newick), format=\"newick\", into=skbio.tree.TreeNode)\n",
    "print(\"Multiple sequence alignment percent identity distance, UPGMA\")\n",
    "print()\n",
    "print(t)\n",
    "print()\n",
    "print(t.ascii_art())"
   ]
  },
  {
   "cell_type": "code",
   "execution_count": null,
   "metadata": {
    "collapsed": true
   },
   "outputs": [],
   "source": [
    "newick = upgma(dist_kmer)\n",
    "t = skbio.io.read(StringIO(newick), format=\"newick\", into=skbio.tree.TreeNode)\n",
    "print(\"K-mer distance, UPGMA\")\n",
    "print()\n",
    "print(t)\n",
    "print()\n",
    "print(t.ascii_art())"
   ]
  },
  {
   "cell_type": "markdown",
   "metadata": {},
   "source": [
    "#### Task 6 - Question 1\n",
    "Why are the trees different? (max 50 words)\n",
    "\n",
    "Write your answer in the markdown cell below."
   ]
  },
  {
   "cell_type": "markdown",
   "metadata": {},
   "source": [
    "~~ GRADED CELL (3 marks) - complete this cell ~~\n",
    "\n",
    "*Your answer here*"
   ]
  },
  {
   "cell_type": "markdown",
   "metadata": {},
   "source": [
    "### Task 7 - Building trees with neighbor joining\n",
    "In this section you will use the `skbio` implementation of the neighbor joining algorithm to build trees and visualize them as in the previous section."
   ]
  },
  {
   "cell_type": "markdown",
   "metadata": {},
   "source": [
    "The following code converts a dictionary-based distance matrix to a `DistanceMatrix` object suitable for the `skbio` neighbor joining implementation."
   ]
  },
  {
   "cell_type": "code",
   "execution_count": 4,
   "metadata": {
    "collapsed": true
   },
   "outputs": [],
   "source": [
    "def convert_distance_matrix(dist):\n",
    "    genes = sorted(dist.keys())\n",
    "    dist_lists = list()\n",
    "\n",
    "    for key1 in genes:\n",
    "        a = list()\n",
    "        for key2 in genes:\n",
    "            a.append(dist[key1][key2])\n",
    "        dist_lists.append(a)\n",
    "        \n",
    "    return skbio.DistanceMatrix(dist_lists, genes)"
   ]
  },
  {
   "cell_type": "markdown",
   "metadata": {},
   "source": [
    "The following three blocks generate trees using the `skbio` neighbor joining implementation and print those trees to the console. There is one block per distance method."
   ]
  },
  {
   "cell_type": "code",
   "execution_count": 5,
   "metadata": {
    "collapsed": true
   },
   "outputs": [
    {
     "ename": "NameError",
     "evalue": "name 'dist_pairwise' is not defined",
     "output_type": "error",
     "traceback": [
      "\u001b[0;31m---------------------------------------------------------------------------\u001b[0m",
      "\u001b[0;31mNameError\u001b[0m                                 Traceback (most recent call last)",
      "\u001b[0;32m<ipython-input-5-0deaa6095cb5>\u001b[0m in \u001b[0;36m<module>\u001b[0;34m()\u001b[0m\n\u001b[0;32m----> 1\u001b[0;31m \u001b[0mm\u001b[0m \u001b[0;34m=\u001b[0m \u001b[0mconvert_distance_matrix\u001b[0m\u001b[0;34m(\u001b[0m\u001b[0mdist_pairwise\u001b[0m\u001b[0;34m)\u001b[0m\u001b[0;34m\u001b[0m\u001b[0m\n\u001b[0m\u001b[1;32m      2\u001b[0m \u001b[0mt\u001b[0m \u001b[0;34m=\u001b[0m \u001b[0mskbio\u001b[0m\u001b[0;34m.\u001b[0m\u001b[0mtree\u001b[0m\u001b[0;34m.\u001b[0m\u001b[0mnj\u001b[0m\u001b[0;34m(\u001b[0m\u001b[0mm\u001b[0m\u001b[0;34m)\u001b[0m\u001b[0;34m\u001b[0m\u001b[0m\n\u001b[1;32m      3\u001b[0m \u001b[0mprint\u001b[0m\u001b[0;34m(\u001b[0m\u001b[0;34m\"Local alignment score distance, NJ\"\u001b[0m\u001b[0;34m)\u001b[0m\u001b[0;34m\u001b[0m\u001b[0m\n\u001b[1;32m      4\u001b[0m \u001b[0mprint\u001b[0m\u001b[0;34m(\u001b[0m\u001b[0;34m)\u001b[0m\u001b[0;34m\u001b[0m\u001b[0m\n\u001b[1;32m      5\u001b[0m \u001b[0mprint\u001b[0m\u001b[0;34m(\u001b[0m\u001b[0mt\u001b[0m\u001b[0;34m)\u001b[0m\u001b[0;34m\u001b[0m\u001b[0m\n",
      "\u001b[0;31mNameError\u001b[0m: name 'dist_pairwise' is not defined"
     ]
    }
   ],
   "source": [
    "m = convert_distance_matrix(dist_pairwise)\n",
    "t = skbio.tree.nj(m)\n",
    "print(\"Local alignment score distance, NJ\")\n",
    "print()\n",
    "print(t)\n",
    "print()\n",
    "print(t.ascii_art())"
   ]
  },
  {
   "cell_type": "code",
   "execution_count": null,
   "metadata": {
    "collapsed": true
   },
   "outputs": [],
   "source": [
    "m = convert_distance_matrix(dist_msa)\n",
    "t = skbio.tree.nj(m)\n",
    "print(\"Multiple sequence alignment percent identity distance, NJ\")\n",
    "print()\n",
    "print(t)\n",
    "print()\n",
    "print(t.ascii_art())"
   ]
  },
  {
   "cell_type": "code",
   "execution_count": null,
   "metadata": {
    "collapsed": true
   },
   "outputs": [],
   "source": [
    "m = convert_distance_matrix(dist_kmer)\n",
    "t = skbio.tree.nj(m)\n",
    "print(\"K-mer distance, NJ\")\n",
    "print()\n",
    "print(t)\n",
    "print()\n",
    "print(t.ascii_art())"
   ]
  },
  {
   "cell_type": "markdown",
   "metadata": {},
   "source": [
    "#### Task 7 - Question 1\n",
    "Based on all the trees you've generated, which distance method do you think is the best and why? (max 100 words)\n",
    "\n",
    "Write your answer in the markdown cell below."
   ]
  },
  {
   "cell_type": "markdown",
   "metadata": {},
   "source": [
    "~~ GRADED CELL (3 marks) - complete this cell ~~\n",
    "\n",
    "*Your answer here*"
   ]
  }
 ],
 "metadata": {
  "kernelspec": {
   "display_name": "Python 3",
   "language": "python",
   "name": "python3"
  },
  "language_info": {
   "codemirror_mode": {
    "name": "ipython",
    "version": 3
   },
   "file_extension": ".py",
   "mimetype": "text/x-python",
   "name": "python",
   "nbconvert_exporter": "python",
   "pygments_lexer": "ipython3",
   "version": "3.7.1"
  }
 },
 "nbformat": 4,
 "nbformat_minor": 2
}
